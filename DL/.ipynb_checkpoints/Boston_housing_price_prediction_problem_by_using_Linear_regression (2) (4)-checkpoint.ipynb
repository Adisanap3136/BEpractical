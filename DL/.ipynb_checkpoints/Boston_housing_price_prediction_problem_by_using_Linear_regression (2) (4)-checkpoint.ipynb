{
 "cells": [
  {
   "cell_type": "code",
   "execution_count": null,
   "metadata": {
    "colab": {
     "base_uri": "https://localhost:8080/",
     "height": 73
    },
    "id": "Gfst71Rbh5zR",
    "outputId": "f294adb6-16a6-4c4b-c782-2f8759ec31a9"
   },
   "outputs": [],
   "source": [
    "#from sklearn.datasets import load_boston\n",
    "import numpy as np\n",
    "import pandas as pd\n",
    "from sklearn.model_selection import train_test_split\n",
    "from sklearn.preprocessing import StandardScaler\n",
    "import tensorflow as tf\n",
    "from tensorflow.keras import layers, models\n",
    "#boston_dataset = load_boston()\n",
    "\n",
    "#google collab upload dataset\n",
    "#from google.colab import files\n",
    "#uploaded = files.upload()\n",
    "#import io\n",
    "\n",
    "# Check the uploaded file name\n",
    "#uploaded_file_name = list(uploaded.keys())[0]\n",
    "\n",
    "# Read the uploaded file using the correct name\n",
    "#df = pd.read_csv(io.BytesIO(uploaded[uploaded_file_name]))\n",
    "\n",
    "df = pd.read_csv(\"Boston.csv\")\n",
    "df.columns = [' ','crim','zn','indus','chas','nox','rm', 'age' , 'dis', 'rad' , 'tax', 'ptratio', 'black', 'lstat', 'medv']\n",
    "df\n",
    "\n",
    "import warnings\n",
    "#We do not want to see warnings\n",
    "warnings.filterwarnings(\"ignore\")"
   ]
  },
  {
   "cell_type": "code",
   "execution_count": null,
   "metadata": {
    "colab": {
     "base_uri": "https://localhost:8080/"
    },
    "id": "mGhV-iJth8cE",
    "outputId": "6729ed4f-cc31-4a9d-d344-fa4d07c3548b"
   },
   "outputs": [],
   "source": [
    "from sklearn.model_selection import train_test_split\n",
    "\n",
    "X = df.drop('medv', axis=1)\n",
    "y = df['medv']\n",
    "\n",
    "X_train, X_test, y_train, y_test = train_test_split(X, y, test_size=0.3, random_state=123)\n",
    "print(X_train.shape)\n",
    "print(X_test.shape)\n",
    "print(y_train.shape)\n",
    "print(y_test.shape)\n",
    "\n",
    "# Check for missing values\n",
    "missing_values = X_train.isnull().sum()\n",
    "\n",
    "\n",
    "# Check the data types\n",
    "print(X_train.dtypes)"
   ]
  },
  {
   "cell_type": "code",
   "execution_count": null,
   "metadata": {
    "colab": {
     "base_uri": "https://localhost:8080/"
    },
    "id": "mruwckhwh_Hr",
    "outputId": "3a8e51ae-8820-48ac-f52c-42bc9fa25879"
   },
   "outputs": [],
   "source": [
    "#Normalization or std. scalar - data preprocessing\n",
    "#from sklearn.preprocessing import MinMaxScaler\n",
    "#scaler = MinMaxScaler()\n",
    "#X_train=scaler.fit_transform(X_train)\n",
    "#X_test=scaler.fit_transform(X_test)\n",
    "\n",
    "scaler = StandardScaler()\n",
    "X_train = scaler.fit_transform(X_train)\n",
    "X_test = scaler.transform(X_test)\n",
    "\n",
    "print(X_train.shape)\n",
    "print(X_test.shape)\n",
    "print(y_train.shape)\n",
    "print(y_test.shape)"
   ]
  },
  {
   "cell_type": "code",
   "execution_count": null,
   "metadata": {
    "colab": {
     "base_uri": "https://localhost:8080/"
    },
    "id": "N7yjTunhiCaz",
    "outputId": "ea1b1a6b-cdf1-4353-eacc-d8f3c42b7e1c"
   },
   "outputs": [],
   "source": [
    "import tensorflow as tf\n",
    "from tensorflow.keras import Sequential\n",
    "from tensorflow.keras.layers import Dense\n",
    "model = Sequential()\n",
    "model.add(Dense(128, input_shape=(14, ), activation='sigmoid', name='dense_1'))\n",
    "#model.add(Dense(128, input_shape=(13, ), activation='relu', name='dense_1'))\n",
    "model.add(Dense(64, activation='relu', name='dense_2'))\n",
    "model.add(Dense(64, activation='relu', name='dense_3'))\n",
    "model.add(Dense(64, activation='relu', name='dense_4'))\n",
    "model.add(Dense(64, activation='relu', name='dense_5'))\n",
    "model.add(Dense(1, activation='linear', name='dense_output'))\n",
    "#model.compile(optimizer='RMSprop', loss='mse', metrics=['mae'])\n",
    "model.compile(optimizer=tf.keras.optimizers.RMSprop(learning_rate=0.001), loss='mse', metrics=['mae'])\n",
    "model.summary()\n",
    "for layer in model.layers:\n",
    "   if layer.name.startswith('pre_trained_model'):\n",
    "      layer.trainable = False\n"
   ]
  },
  {
   "cell_type": "code",
   "execution_count": null,
   "metadata": {
    "colab": {
     "base_uri": "https://localhost:8080/"
    },
    "id": "p_l00hwSkmYL",
    "outputId": "30d00126-2e52-4d9d-a02c-919224bcfaee"
   },
   "outputs": [],
   "source": [
    "history = model.fit(X_train, y_train, batch_size = 64, epochs=100, validation_split= 0.02)"
   ]
  },
  {
   "cell_type": "code",
   "execution_count": null,
   "metadata": {
    "colab": {
     "base_uri": "https://localhost:8080/"
    },
    "id": "0G-utiHylACz",
    "outputId": "ed7e5cb7-664d-4504-97ba-3caad8292973"
   },
   "outputs": [],
   "source": [
    "mse_nn, mae_nn = model.evaluate(X_test, y_test)\n",
    "\n",
    "print('Mean squared error on test data: ', mse_nn)\n",
    "print('Mean absolute error on test data: ', mae_nn)"
   ]
  }
 ],
 "metadata": {
  "colab": {
   "provenance": []
  },
  "kernelspec": {
   "display_name": "Python 3 (ipykernel)",
   "language": "python",
   "name": "python3"
  },
  "language_info": {
   "codemirror_mode": {
    "name": "ipython",
    "version": 3
   },
   "file_extension": ".py",
   "mimetype": "text/x-python",
   "name": "python",
   "nbconvert_exporter": "python",
   "pygments_lexer": "ipython3",
   "version": "3.12.5"
  }
 },
 "nbformat": 4,
 "nbformat_minor": 4
}
